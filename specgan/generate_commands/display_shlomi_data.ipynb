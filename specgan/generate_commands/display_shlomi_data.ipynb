{
 "cells": [
  {
   "cell_type": "code",
   "execution_count": 2,
   "source": [
    "import scipy.io\n",
    "\n",
    "\n",
    "mat_path = \"../../shlomi_test_spectrograms_and_derivs_1.mat\"\n",
    "raw_data = scipy.io.loadmat(mat_path)"
   ],
   "outputs": [],
   "metadata": {}
  },
  {
   "cell_type": "code",
   "execution_count": 45,
   "source": [
    "print (raw_data.keys())\n",
    "from PIL import Image\n",
    "import numpy as np\n",
    "\n",
    "import matplotlib.pyplot as plt\n",
    "\n",
    "cm = plt.get_cmap('viridis')\n",
    "\n",
    "# plt.imshow(raw_data['logspecs'][5], cmap=cm)\n",
    "# plt.show()\n",
    "for i in range(0, 255):\n",
    "    plt.imshow(raw_data['logspecs'][i])\n",
    "    plt.savefig(f'./spect{i}.png')"
   ],
   "outputs": [
    {
     "output_type": "stream",
     "name": "stdout",
     "text": [
      "dict_keys(['__header__', '__version__', '__globals__', 'logspecs', 'tgrad', 'fgrad'])\n"
     ]
    },
    {
     "output_type": "display_data",
     "data": {
      "image/png": "[encoded data removed]",
      "text/plain": [
       "<Figure size 432x288 with 1 Axes>"
      ]
     },
     "metadata": {
      "needs_background": "light"
     }
    }
   ],
   "metadata": {}
  },
  {
   "cell_type": "code",
   "execution_count": 11,
   "source": [
    "from scipy import signal\n",
    "t, x = signal.istft(raw_data['logspecs'][87], fs=16384, nperseg=256)\n",
    "\n",
    "print (t, len(x))"
   ],
   "outputs": [
    {
     "output_type": "stream",
     "name": "stdout",
     "text": [
      "[0.00000000e+00 6.10351562e-05 1.22070312e-04 ... 9.92004395e-01\n",
      " 9.92065430e-01 9.92126465e-01] 16256\n"
     ]
    }
   ],
   "metadata": {}
  },
  {
   "cell_type": "code",
   "execution_count": 46,
   "source": [
    "from scipy.io.wavfile import write\n",
    "for i in range(0, 255):\n",
    "    t, x = signal.istft(raw_data['logspecs'][i], fs=16384, nperseg=256)\n",
    "    write(f\"./{i}wave.wav\", 16384, x)\n"
   ],
   "outputs": [],
   "metadata": {}
  },
  {
   "cell_type": "code",
   "execution_count": null,
   "source": [
    "import os\n",
    " \n",
    "for filename in os.listdir(directory):\n",
    "    if filename.endswith(\".asm\") or filename.endswith(\".py\"): \n",
    "         # print(os.path.join(directory, filename))\n",
    "        continue\n",
    "    else:\n",
    "        continue"
   ],
   "outputs": [],
   "metadata": {}
  }
 ],
 "metadata": {
  "orig_nbformat": 4,
  "language_info": {
   "name": "python",
   "version": "3.6.15",
   "mimetype": "text/x-python",
   "codemirror_mode": {
    "name": "ipython",
    "version": 3
   },
   "pygments_lexer": "ipython3",
   "nbconvert_exporter": "python",
   "file_extension": ".py"
  },
  "kernelspec": {
   "name": "python3",
   "display_name": "Python 3.6.15 64-bit ('stftgan': venv)"
  },
  "interpreter": {
   "hash": "7ea211969f2a04f87cf87d17a2ff5e60f27c28fbcc0eea6505deaa79fd140997"
  }
 },
 "nbformat": 4,
 "nbformat_minor": 2
}